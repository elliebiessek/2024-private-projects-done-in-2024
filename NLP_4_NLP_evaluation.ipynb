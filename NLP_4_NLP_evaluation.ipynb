{
 "cells": [
  {
   "cell_type": "markdown",
   "id": "1462b10e",
   "metadata": {},
   "source": [
    "<div class=\"alert alert-info alertinfo\" style=\"margin-top: 0px\">\n",
    "<h1> Natural Language Processing with Disaster Tweets </h1>\n",
    "part 4 - Model re-evaluation\n",
    "</div>"
   ]
  },
  {
   "cell_type": "markdown",
   "id": "c3e1fba6",
   "metadata": {},
   "source": [
    "<div class=\"alert-success\" style=\"margin-top: 0px\">\n",
    "<h1> Imports </h1>\n",
    "</div> "
   ]
  },
  {
   "cell_type": "code",
   "execution_count": 1,
   "id": "580b9665",
   "metadata": {},
   "outputs": [],
   "source": [
    "# Set NLTK data path\n",
    "import nltk\n",
    "nltk.data.path.append(\"C:/Users/ebies/AppData/Roaming/nltk_data\")\n",
    "\n",
    "# standard\n",
    "import pandas as pd\n",
    "# import numpy as np\n",
    "from collections import Counter\n",
    "\n",
    "# NLP\n",
    "import re\n",
    "import nltk\n",
    "from nltk.corpus import words\n",
    "from nltk.corpus import stopwords\n",
    "from nltk.stem import PorterStemmer\n",
    "from nltk import word_tokenize, pos_tag, ne_chunk\n",
    "\n",
    "# visualization\n",
    "import matplotlib.pyplot as plt\n",
    "import seaborn as sns\n",
    "\n",
    "# others\n",
    "from sklearn.metrics import confusion_matrix\n",
    "import joblib"
   ]
  },
  {
   "cell_type": "markdown",
   "id": "3cdb271f",
   "metadata": {},
   "source": [
    "### 1. read data set"
   ]
  },
  {
   "cell_type": "code",
   "execution_count": 2,
   "id": "13deee3d",
   "metadata": {},
   "outputs": [
    {
     "data": {
      "text/html": [
       "<div>\n",
       "<style scoped>\n",
       "    .dataframe tbody tr th:only-of-type {\n",
       "        vertical-align: middle;\n",
       "    }\n",
       "\n",
       "    .dataframe tbody tr th {\n",
       "        vertical-align: top;\n",
       "    }\n",
       "\n",
       "    .dataframe thead th {\n",
       "        text-align: right;\n",
       "    }\n",
       "</style>\n",
       "<table border=\"1\" class=\"dataframe\">\n",
       "  <thead>\n",
       "    <tr style=\"text-align: right;\">\n",
       "      <th></th>\n",
       "      <th>id</th>\n",
       "      <th>text</th>\n",
       "      <th>processed text</th>\n",
       "      <th>expected</th>\n",
       "      <th>predicted</th>\n",
       "    </tr>\n",
       "  </thead>\n",
       "  <tbody>\n",
       "    <tr>\n",
       "      <th>0</th>\n",
       "      <td>1</td>\n",
       "      <td>Our Deeds are the Reason of this #earthquake M...</td>\n",
       "      <td>reason earthquak may allah forgiv</td>\n",
       "      <td>1</td>\n",
       "      <td>1</td>\n",
       "    </tr>\n",
       "    <tr>\n",
       "      <th>1</th>\n",
       "      <td>5</td>\n",
       "      <td>All residents asked to 'shelter in place' are ...</td>\n",
       "      <td>resid ask shelter place notifi offic evacu she...</td>\n",
       "      <td>1</td>\n",
       "      <td>1</td>\n",
       "    </tr>\n",
       "    <tr>\n",
       "      <th>2</th>\n",
       "      <td>7</td>\n",
       "      <td>Just got sent this photo from Ruby #Alaska as ...</td>\n",
       "      <td>got sent photo rubi alaska smoke wildfir school</td>\n",
       "      <td>1</td>\n",
       "      <td>0</td>\n",
       "    </tr>\n",
       "    <tr>\n",
       "      <th>3</th>\n",
       "      <td>10</td>\n",
       "      <td>#flood #disaster Heavy rain causes flash flood...</td>\n",
       "      <td>flood disast heavi rain caus flash flood stree...</td>\n",
       "      <td>1</td>\n",
       "      <td>1</td>\n",
       "    </tr>\n",
       "    <tr>\n",
       "      <th>4</th>\n",
       "      <td>18</td>\n",
       "      <td>#raining #flooding #Florida #TampaBay #Tampa 1...</td>\n",
       "      <td>flood florida day lost count</td>\n",
       "      <td>1</td>\n",
       "      <td>1</td>\n",
       "    </tr>\n",
       "  </tbody>\n",
       "</table>\n",
       "</div>"
      ],
      "text/plain": [
       "   id                                               text  \\\n",
       "0   1  Our Deeds are the Reason of this #earthquake M...   \n",
       "1   5  All residents asked to 'shelter in place' are ...   \n",
       "2   7  Just got sent this photo from Ruby #Alaska as ...   \n",
       "3  10  #flood #disaster Heavy rain causes flash flood...   \n",
       "4  18  #raining #flooding #Florida #TampaBay #Tampa 1...   \n",
       "\n",
       "                                      processed text  expected  predicted  \n",
       "0                  reason earthquak may allah forgiv         1          1  \n",
       "1  resid ask shelter place notifi offic evacu she...         1          1  \n",
       "2    got sent photo rubi alaska smoke wildfir school         1          0  \n",
       "3  flood disast heavi rain caus flash flood stree...         1          1  \n",
       "4                       flood florida day lost count         1          1  "
      ]
     },
     "execution_count": 2,
     "metadata": {},
     "output_type": "execute_result"
    }
   ],
   "source": [
    "df = pd.read_csv('train.csv')\n",
    "test_set = pd.read_csv('test.csv')\n",
    "edf = pd.read_csv('re_evaluation_set.csv')\n",
    "english_words = joblib.load('english_words.pkl')\n",
    "edf.head()"
   ]
  },
  {
   "cell_type": "code",
   "execution_count": 3,
   "id": "4fe1a40a",
   "metadata": {},
   "outputs": [],
   "source": [
    "def summary_table(df):\n",
    "    '''\n",
    "    Creates a summary info table about given data frame\n",
    "    \n",
    "    Args:\n",
    "        df: data frame\n",
    "        \n",
    "    Returns:\n",
    "        summary: info data frame\n",
    "    '''\n",
    "    print('There are {} rows in the original data'.format(df.shape[0]))\n",
    "    summary = pd.DataFrame(df.dtypes, columns = ['dtypes'])\n",
    "    summary = summary.reset_index()\n",
    "    summary['Name'] = summary['index']\n",
    "    summary = summary[['Name', 'dtypes']]\n",
    "    summary['Missing'] = df.isnull().sum().values\n",
    "    summary['Uniques'] = df.nunique().values\n",
    "    return summary"
   ]
  },
  {
   "cell_type": "code",
   "execution_count": 4,
   "id": "ecbc5079",
   "metadata": {},
   "outputs": [
    {
     "name": "stdout",
     "output_type": "stream",
     "text": [
      "There are 6779 rows in the original data\n"
     ]
    },
    {
     "data": {
      "text/html": [
       "<div>\n",
       "<style scoped>\n",
       "    .dataframe tbody tr th:only-of-type {\n",
       "        vertical-align: middle;\n",
       "    }\n",
       "\n",
       "    .dataframe tbody tr th {\n",
       "        vertical-align: top;\n",
       "    }\n",
       "\n",
       "    .dataframe thead th {\n",
       "        text-align: right;\n",
       "    }\n",
       "</style>\n",
       "<table border=\"1\" class=\"dataframe\">\n",
       "  <thead>\n",
       "    <tr style=\"text-align: right;\">\n",
       "      <th></th>\n",
       "      <th>Name</th>\n",
       "      <th>dtypes</th>\n",
       "      <th>Missing</th>\n",
       "      <th>Uniques</th>\n",
       "    </tr>\n",
       "  </thead>\n",
       "  <tbody>\n",
       "    <tr>\n",
       "      <th>0</th>\n",
       "      <td>id</td>\n",
       "      <td>int64</td>\n",
       "      <td>0</td>\n",
       "      <td>6779</td>\n",
       "    </tr>\n",
       "    <tr>\n",
       "      <th>1</th>\n",
       "      <td>text</td>\n",
       "      <td>object</td>\n",
       "      <td>0</td>\n",
       "      <td>6686</td>\n",
       "    </tr>\n",
       "    <tr>\n",
       "      <th>2</th>\n",
       "      <td>processed text</td>\n",
       "      <td>object</td>\n",
       "      <td>9</td>\n",
       "      <td>5919</td>\n",
       "    </tr>\n",
       "    <tr>\n",
       "      <th>3</th>\n",
       "      <td>expected</td>\n",
       "      <td>int64</td>\n",
       "      <td>0</td>\n",
       "      <td>2</td>\n",
       "    </tr>\n",
       "    <tr>\n",
       "      <th>4</th>\n",
       "      <td>predicted</td>\n",
       "      <td>int64</td>\n",
       "      <td>0</td>\n",
       "      <td>2</td>\n",
       "    </tr>\n",
       "  </tbody>\n",
       "</table>\n",
       "</div>"
      ],
      "text/plain": [
       "             Name  dtypes  Missing  Uniques\n",
       "0              id   int64        0     6779\n",
       "1            text  object        0     6686\n",
       "2  processed text  object        9     5919\n",
       "3        expected   int64        0        2\n",
       "4       predicted   int64        0        2"
      ]
     },
     "execution_count": 4,
     "metadata": {},
     "output_type": "execute_result"
    }
   ],
   "source": [
    "summary_table(edf)"
   ]
  },
  {
   "cell_type": "markdown",
   "id": "8cb7af1d",
   "metadata": {},
   "source": [
    "<div class=\"alert-success\" style=\"margin-top: 0px\">\n",
    "<h1> Investigating missing processed text </h1>\n",
    "</div>"
   ]
  },
  {
   "cell_type": "code",
   "execution_count": 5,
   "id": "91e58a8f",
   "metadata": {},
   "outputs": [
    {
     "data": {
      "text/html": [
       "<div>\n",
       "<style scoped>\n",
       "    .dataframe tbody tr th:only-of-type {\n",
       "        vertical-align: middle;\n",
       "    }\n",
       "\n",
       "    .dataframe tbody tr th {\n",
       "        vertical-align: top;\n",
       "    }\n",
       "\n",
       "    .dataframe thead th {\n",
       "        text-align: right;\n",
       "    }\n",
       "</style>\n",
       "<table border=\"1\" class=\"dataframe\">\n",
       "  <thead>\n",
       "    <tr style=\"text-align: right;\">\n",
       "      <th></th>\n",
       "      <th>id</th>\n",
       "      <th>text</th>\n",
       "      <th>processed text</th>\n",
       "      <th>expected</th>\n",
       "      <th>predicted</th>\n",
       "    </tr>\n",
       "  </thead>\n",
       "  <tbody>\n",
       "    <tr>\n",
       "      <th>49</th>\n",
       "      <td>363</td>\n",
       "      <td>Are souls punished withåÊannihilation? http://...</td>\n",
       "      <td>NaN</td>\n",
       "      <td>0</td>\n",
       "      <td>0</td>\n",
       "    </tr>\n",
       "    <tr>\n",
       "      <th>2225</th>\n",
       "      <td>6394</td>\n",
       "      <td>@Hurricane_Dame ???????? I don't have them the...</td>\n",
       "      <td>NaN</td>\n",
       "      <td>1</td>\n",
       "      <td>0</td>\n",
       "    </tr>\n",
       "    <tr>\n",
       "      <th>4584</th>\n",
       "      <td>1178</td>\n",
       "      <td>@jake_blight @WeAlIlKnowA you cunt</td>\n",
       "      <td>NaN</td>\n",
       "      <td>0</td>\n",
       "      <td>0</td>\n",
       "    </tr>\n",
       "    <tr>\n",
       "      <th>4890</th>\n",
       "      <td>6429</td>\n",
       "      <td>@Hurricane_Dolce no prob</td>\n",
       "      <td>NaN</td>\n",
       "      <td>1</td>\n",
       "      <td>0</td>\n",
       "    </tr>\n",
       "    <tr>\n",
       "      <th>5146</th>\n",
       "      <td>40</td>\n",
       "      <td>Cooool :)</td>\n",
       "      <td>NaN</td>\n",
       "      <td>0</td>\n",
       "      <td>0</td>\n",
       "    </tr>\n",
       "    <tr>\n",
       "      <th>5192</th>\n",
       "      <td>1191</td>\n",
       "      <td>Stats http://t.co/U7vavyrGv9</td>\n",
       "      <td>NaN</td>\n",
       "      <td>0</td>\n",
       "      <td>0</td>\n",
       "    </tr>\n",
       "    <tr>\n",
       "      <th>5563</th>\n",
       "      <td>9697</td>\n",
       "      <td>@Ayshun_Tornado then don't</td>\n",
       "      <td>NaN</td>\n",
       "      <td>0</td>\n",
       "      <td>0</td>\n",
       "    </tr>\n",
       "    <tr>\n",
       "      <th>5805</th>\n",
       "      <td>5213</td>\n",
       "      <td>@Truly_Stings Yo Dm me</td>\n",
       "      <td>NaN</td>\n",
       "      <td>1</td>\n",
       "      <td>0</td>\n",
       "    </tr>\n",
       "    <tr>\n",
       "      <th>6565</th>\n",
       "      <td>28</td>\n",
       "      <td>What a goooooooaaaaaal!!!!!!</td>\n",
       "      <td>NaN</td>\n",
       "      <td>0</td>\n",
       "      <td>0</td>\n",
       "    </tr>\n",
       "  </tbody>\n",
       "</table>\n",
       "</div>"
      ],
      "text/plain": [
       "        id                                               text processed text  \\\n",
       "49     363  Are souls punished withåÊannihilation? http://...            NaN   \n",
       "2225  6394  @Hurricane_Dame ???????? I don't have them the...            NaN   \n",
       "4584  1178                 @jake_blight @WeAlIlKnowA you cunt            NaN   \n",
       "4890  6429                           @Hurricane_Dolce no prob            NaN   \n",
       "5146    40                                          Cooool :)            NaN   \n",
       "5192  1191                       Stats http://t.co/U7vavyrGv9            NaN   \n",
       "5563  9697                         @Ayshun_Tornado then don't            NaN   \n",
       "5805  5213                             @Truly_Stings Yo Dm me            NaN   \n",
       "6565    28                       What a goooooooaaaaaal!!!!!!            NaN   \n",
       "\n",
       "      expected  predicted  \n",
       "49           0          0  \n",
       "2225         1          0  \n",
       "4584         0          0  \n",
       "4890         1          0  \n",
       "5146         0          0  \n",
       "5192         0          0  \n",
       "5563         0          0  \n",
       "5805         1          0  \n",
       "6565         0          0  "
      ]
     },
     "execution_count": 5,
     "metadata": {},
     "output_type": "execute_result"
    }
   ],
   "source": [
    "edf[edf['processed text']!=edf['processed text']]"
   ]
  },
  {
   "cell_type": "code",
   "execution_count": 6,
   "id": "5f502d14",
   "metadata": {},
   "outputs": [
    {
     "data": {
      "text/plain": [
       "True"
      ]
     },
     "execution_count": 6,
     "metadata": {},
     "output_type": "execute_result"
    }
   ],
   "source": [
    "'hurricane' in english_words"
   ]
  },
  {
   "cell_type": "markdown",
   "id": "0db5ae31",
   "metadata": {},
   "source": [
    "### Conclusion"
   ]
  },
  {
   "cell_type": "markdown",
   "id": "d0880993",
   "metadata": {},
   "source": [
    "<div class=\"alert alert-warning alertwarning\" style=\"margin-top: 0px\">\n",
    "<h4> Most of records with missing 'processed text' have prediction 0 (non-disaster). </h4>\n",
    "<h4> However we can see that we are excluding important word 'hurricane' because it is preceeded with symbol @.</h4>\n",
    "<h4> We have to revisit and adjust cleaning function to make sure we fix this problem. </h4>\n",
    "</div>"
   ]
  },
  {
   "cell_type": "markdown",
   "id": "d6fadec5",
   "metadata": {},
   "source": [
    "### proposed fix"
   ]
  },
  {
   "cell_type": "code",
   "execution_count": 7,
   "id": "eda3fd1a",
   "metadata": {},
   "outputs": [
    {
     "name": "stdout",
     "output_type": "stream",
     "text": [
      "no prob,\n",
      "@Hurricane_Dolce no prob,\n"
     ]
    }
   ],
   "source": [
    "# previous cleaning function\n",
    "def remove_emails(text):\n",
    "    text = re.sub(r'\\S+@\\S+', '', text, flags=re.MULTILINE)\n",
    "    text = re.sub(r'(^|\\s)@\\w+', '', text)\n",
    "    return text.strip()\n",
    "\n",
    "# proposed cleaning function\n",
    "def remove_emails_1(text):\n",
    "    text = re.sub(r'\\S+@\\S+', '', text, flags=re.MULTILINE)\n",
    "    text = re.sub(r'\\b@\\w+', '', text)    \n",
    "    return text.strip()\n",
    "\n",
    "text = \"@Hurricane_Dolce no prob, email@example.com\"\n",
    "old_text = remove_emails(text)\n",
    "new_text = remove_emails_1(text)\n",
    "print(old_text)\n",
    "print(new_text)"
   ]
  },
  {
   "cell_type": "markdown",
   "id": "d0a4eba6",
   "metadata": {},
   "source": [
    "<div class=\"alert-success\" style=\"margin-top: 0px\">\n",
    "<h1> Investigating most common words found in missclassified records </h1>\n",
    "</div> "
   ]
  },
  {
   "cell_type": "code",
   "execution_count": 8,
   "id": "32715025",
   "metadata": {},
   "outputs": [
    {
     "name": "stdout",
     "output_type": "stream",
     "text": [
      "Top False Positives Words: [('plan', 16), ('via', 15), ('fire', 13), ('disast', 11), ('hijack', 11), ('emerg', 11), ('nation', 11), ('bomb', 9), ('amp', 9), ('news', 9), ('land', 9), ('nuclear', 9), ('like', 9), ('sinkhol', 9), ('islam', 9)]\n",
      "----------------------------------------\n",
      "Top False Negatives Words: [('like', 62), ('amp', 57), ('get', 45), ('burn', 39), ('fire', 38), ('look', 31), ('build', 31), ('one', 28), ('back', 24), ('time', 22), ('peopl', 21), ('watch', 21), ('day', 21), ('storm', 20), ('riot', 20)]\n"
     ]
    }
   ],
   "source": [
    "edf.fillna('', inplace=True)\n",
    "\n",
    "# top words for false positives and false negatives\n",
    "labels = ['fp', 'fn', 'tp', 'tn']\n",
    "edf['correct'] = edf['predicted'] == edf['expected']\n",
    "\n",
    "def preprocess(text):\n",
    "    tokens = word_tokenize(text)\n",
    "    return tokens\n",
    "\n",
    "result_list = []\n",
    "\n",
    "for label in labels:\n",
    "    condition1 = True if label[0] == 't' else False\n",
    "    condition2 = 1 if label[1] == 'p' else 0\n",
    "    subset_df = edf[(edf['correct'] == condition1) & (edf['predicted'] == condition2)]\n",
    "    text = ' '.join(subset_df['processed text'])\n",
    "    tokens = word_tokenize(text)\n",
    "    words = [word for x in tokens for word in preprocess(x)]\n",
    "    top_words = Counter(words).most_common(15)\n",
    "    result_list.append((f\"{label}_top_words\", top_words))\n",
    "\n",
    "# Unpack the results\n",
    "for label, value in result_list:\n",
    "    globals()[label] = value\n",
    "\n",
    "print(\"Top False Positives Words:\", fp_top_words)\n",
    "print('----------------------------------------')\n",
    "print(\"Top False Negatives Words:\", fn_top_words)  "
   ]
  },
  {
   "cell_type": "code",
   "execution_count": 9,
   "id": "1244287e",
   "metadata": {},
   "outputs": [
    {
     "name": "stdout",
     "output_type": "stream",
     "text": [
      "Top True Positives Words: [('fire', 199), ('bomb', 162), ('kill', 134), ('news', 122), ('suicid', 102), ('via', 101), ('disast', 97), ('california', 97), ('flood', 95), ('train', 94), ('famili', 94), ('home', 89), ('hiroshima', 87), ('attack', 85), ('polic', 85)]\n",
      "----------------------------------------\n",
      "Top True Negatives Words: [('like', 260), ('get', 191), ('amp', 176), ('new', 151), ('one', 125), ('love', 114), ('bodi', 108), ('bag', 104), ('video', 92), ('want', 90), ('day', 90), ('scream', 90), ('would', 87), ('see', 85), ('make', 85)]\n"
     ]
    }
   ],
   "source": [
    "# top words for true positives and true negatives\n",
    "print(\"Top True Positives Words:\", tp_top_words)\n",
    "print('----------------------------------------')\n",
    "print(\"Top True Negatives Words:\", tn_top_words)"
   ]
  },
  {
   "cell_type": "code",
   "execution_count": 10,
   "id": "90e82fea",
   "metadata": {},
   "outputs": [],
   "source": [
    "# example of how we could 'zoom in' to see which word combinations are contributing the most into missclassification"
   ]
  },
  {
   "cell_type": "code",
   "execution_count": 11,
   "id": "3e3de747",
   "metadata": {},
   "outputs": [],
   "source": [
    "evaluation_word = 'like'"
   ]
  },
  {
   "cell_type": "code",
   "execution_count": 12,
   "id": "12857f39",
   "metadata": {},
   "outputs": [],
   "source": [
    "def show_word_analysis(evaluation_word):\n",
    "    highlighted_edf = edf[edf['processed text'].str.contains(evaluation_word, case=False, na=False)].reset_index()\n",
    "\n",
    "    # find most significant neighbour words\n",
    "    correct = highlighted_edf[highlighted_edf['expected']==highlighted_edf['predicted']]\n",
    "    wrong = highlighted_edf[highlighted_edf['expected']!=highlighted_edf['predicted']]\n",
    "\n",
    "    correct_tokens = correct['processed text'].str.split()\n",
    "    correct_word_freq = Counter([word for sublist in correct_tokens for word in sublist])\n",
    "    correct_df = pd.DataFrame(list(correct_word_freq.items()), columns=['word', 'correct_freq'])\n",
    "\n",
    "    wrong_tokens = wrong['processed text'].str.split()\n",
    "    wrong_word_freq = Counter([word for sublist in wrong_tokens for word in sublist])\n",
    "    wrong_df = pd.DataFrame(list(wrong_word_freq.items()), columns=['word', 'wrong_freq'])\n",
    "\n",
    "    merged_df = pd.merge(correct_df, wrong_df, on='word', how='inner')\n",
    "    filtered_df = merged_df[merged_df['correct_freq'] >= 10]\n",
    "    filtered_df = filtered_df[filtered_df['correct_freq'] >= 3]\n",
    "    sorted_df = filtered_df.sort_values(by=['correct_freq', 'wrong_freq'], ascending=False)\n",
    "    neighbour_words = sorted_df.iloc[1:].reset_index(drop=True)\n",
    "    neighbours = list(neighbour_words['word'])\n",
    "\n",
    "    # Initialize the columns with zeros\n",
    "    neighbour_words['tp'] = 0\n",
    "    neighbour_words['tn'] = 0\n",
    "    neighbour_words['fp'] = 0\n",
    "    neighbour_words['fn'] = 0\n",
    "\n",
    "    # Loop through each neighbor word\n",
    "    for neighbour_word in neighbour_words['word']:\n",
    "        temp_correct = correct[correct['processed text'].str.contains(neighbour_word, case=False, na=False)].reset_index()\n",
    "        tp = temp_correct[temp_correct['predicted'] == 1].shape[0]\n",
    "        tn = temp_correct[temp_correct['predicted'] == 0].shape[0]\n",
    "\n",
    "        temp_wrong = wrong[wrong['processed text'].str.contains(neighbour_word, case=False, na=False)].reset_index()\n",
    "        fp = temp_wrong[temp_wrong['predicted'] == 1].shape[0]\n",
    "        fn = temp_wrong[temp_wrong['predicted'] == 0].shape[0]\n",
    "\n",
    "        # Update values in the DataFrame\n",
    "        neighbour_words.loc[neighbour_words['word'] == neighbour_word, 'tp'] = tp\n",
    "        neighbour_words.loc[neighbour_words['word'] == neighbour_word, 'tn'] = tn\n",
    "        neighbour_words.loc[neighbour_words['word'] == neighbour_word, 'fp'] = fp\n",
    "        neighbour_words.loc[neighbour_words['word'] == neighbour_word, 'fn'] = fn\n",
    "\n",
    "    neighbour_words_metrics = neighbour_words[['word', 'tp', 'tn', 'fp', 'fn']].set_index('word')\n",
    "\n",
    "    # Plotting heatmap\n",
    "    plt.figure(figsize=(6, 3))\n",
    "    sns.heatmap(neighbour_words_metrics, annot=True, fmt='d', cmap='Reds')\n",
    "    plt.xlabel('Metrics')\n",
    "    plt.ylabel('Neighbor Word')\n",
    "    plt.title(f'classification accuracy for neighbour word combined with \"{evaluation_word}\"')\n",
    "    plt.show()\n",
    "    return neighbours"
   ]
  },
  {
   "cell_type": "code",
   "execution_count": 13,
   "id": "d9d43117",
   "metadata": {},
   "outputs": [
    {
     "data": {
      "image/png": "[encoded data removed]",
      "text/plain": [
       "<Figure size 600x300 with 2 Axes>"
      ]
     },
     "metadata": {},
     "output_type": "display_data"
    },
    {
     "data": {
      "text/plain": [
       "['video',\n",
       " 'look',\n",
       " 'feel',\n",
       " 'amp',\n",
       " 'back',\n",
       " 'get',\n",
       " 'one',\n",
       " 'would',\n",
       " 'peopl',\n",
       " 'fire',\n",
       " 'make',\n",
       " 'delug',\n",
       " 'na']"
      ]
     },
     "execution_count": 13,
     "metadata": {},
     "output_type": "execute_result"
    }
   ],
   "source": [
    "show_word_analysis('like')"
   ]
  },
  {
   "cell_type": "code",
   "execution_count": 14,
   "id": "2eadf743",
   "metadata": {
    "scrolled": true
   },
   "outputs": [
    {
     "data": {
      "image/png": "[encoded data removed]",
      "text/plain": [
       "<Figure size 600x300 with 2 Axes>"
      ]
     },
     "metadata": {},
     "output_type": "display_data"
    },
    {
     "data": {
      "text/plain": [
       "['build', 'fire']"
      ]
     },
     "execution_count": 14,
     "metadata": {},
     "output_type": "execute_result"
    }
   ],
   "source": [
    "show_word_analysis('burn')"
   ]
  },
  {
   "cell_type": "markdown",
   "id": "f630a5b3",
   "metadata": {},
   "source": [
    "### we can see that word 'like' is over predicting 'non-disaster' when coupled with most of words but especially with 'look'"
   ]
  },
  {
   "cell_type": "markdown",
   "id": "33a450ee",
   "metadata": {},
   "source": [
    "### word 'burn' is over predicting 'non-disaster' when coupled with word 'build'"
   ]
  },
  {
   "cell_type": "markdown",
   "id": "94493b42",
   "metadata": {},
   "source": [
    "### Conclusion"
   ]
  },
  {
   "cell_type": "markdown",
   "id": "36359d76",
   "metadata": {},
   "source": [
    "<div class=\"alert alert-warning alertwarning\" style=\"margin-top: 0px\">\n",
    "<h4> Similar analysis can be done for each word that contribute the most to missclassifications. </h4>\n",
    "<h4> On example above we found out that word 'like' is mainly biased towards 'non disaster' where coupled with words like 'video', 'look', 'feel' etc. </h4>\n",
    "<h4> We could adjust our model to lean a bit more towards 'disaster' when seeing those words </h4>\n",
    "</div>"
   ]
  },
  {
   "cell_type": "markdown",
   "id": "7e8630fc",
   "metadata": {},
   "source": [
    "### In this notebook I have shown logic of 'zooming in' on missclassifications and what could be done to improve the results.\n",
    "### In the next part we will use pre-trained big language model BERT and we will finetune it to our data set to see the performance "
   ]
  },
  {
   "cell_type": "code",
   "execution_count": null,
   "id": "ce19d2aa",
   "metadata": {},
   "outputs": [],
   "source": []
  }
 ],
 "metadata": {
  "kernelspec": {
   "display_name": "Python 3 (ipykernel)",
   "language": "python",
   "name": "python3"
  },
  "language_info": {
   "codemirror_mode": {
    "name": "ipython",
    "version": 3
   },
   "file_extension": ".py",
   "mimetype": "text/x-python",
   "name": "python",
   "nbconvert_exporter": "python",
   "pygments_lexer": "ipython3",
   "version": "3.11.5"
  }
 },
 "nbformat": 4,
 "nbformat_minor": 5
}
